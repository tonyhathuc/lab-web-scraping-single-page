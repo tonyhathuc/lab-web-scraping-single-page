{
 "cells": [
  {
   "cell_type": "code",
   "execution_count": 2,
   "id": "attractive-gabriel",
   "metadata": {},
   "outputs": [],
   "source": [
    "# 1. import libraries\n",
    "\n",
    "from bs4 import BeautifulSoup\n",
    "import requests\n",
    "import numpy as np\n",
    "import pandas as pd \n",
    "\n",
    "# 2. find the url and store it in a variable\n",
    "\n",
    "url = \"https://www.billboard.com/charts/hot-100\"\n",
    "\n",
    "# 3. download html with a get request\n",
    "\n",
    "response = requests.get(url)"
   ]
  },
  {
   "cell_type": "code",
   "execution_count": 5,
   "id": "associate-freedom",
   "metadata": {},
   "outputs": [
    {
     "data": {
      "text/plain": [
       "200"
      ]
     },
     "execution_count": 5,
     "metadata": {},
     "output_type": "execute_result"
    }
   ],
   "source": [
    "response.status_code"
   ]
  },
  {
   "cell_type": "code",
   "execution_count": 6,
   "id": "passive-tobago",
   "metadata": {},
   "outputs": [],
   "source": [
    "soup = BeautifulSoup(response.content, 'html.parser')"
   ]
  },
  {
   "cell_type": "code",
   "execution_count": 15,
   "id": "conservative-palestinian",
   "metadata": {},
   "outputs": [
    {
     "name": "stderr",
     "output_type": "stream",
     "text": [
      "IOPub data rate exceeded.\n",
      "The notebook server will temporarily stop sending output\n",
      "to the client in order to avoid crashing it.\n",
      "To change this limit, set the config variable\n",
      "`--NotebookApp.iopub_data_rate_limit`.\n",
      "\n",
      "Current values:\n",
      "NotebookApp.iopub_data_rate_limit=1000000.0 (bytes/sec)\n",
      "NotebookApp.rate_limit_window=3.0 (secs)\n",
      "\n"
     ]
    }
   ],
   "source": [
    "# prettify the html code within the soup variable\n",
    "\n",
    "print(soup.prettify())"
   ]
  },
  {
   "cell_type": "code",
   "execution_count": 8,
   "id": "danish-services",
   "metadata": {},
   "outputs": [
    {
     "data": {
      "text/plain": [
       "'Rapstar'"
      ]
     },
     "execution_count": 8,
     "metadata": {},
     "output_type": "execute_result"
    }
   ],
   "source": [
    "# this will select the name of the first song\n",
    "soup.select(\"span.chart-element__information__song\")[0].text"
   ]
  },
  {
   "cell_type": "code",
   "execution_count": 13,
   "id": "sixth-camera",
   "metadata": {},
   "outputs": [
    {
     "data": {
      "text/plain": [
       "'Rapstar'"
      ]
     },
     "execution_count": 13,
     "metadata": {},
     "output_type": "execute_result"
    }
   ],
   "source": [
    "# this will select the name of the first song as well\n",
    "\n",
    "soup.select(\"li.chart-list__element:nth-child(1) > button:nth-child(1) > span:nth-child(2) > span:nth-child(1)\")[0].text "
   ]
  },
  {
   "cell_type": "code",
   "execution_count": 10,
   "id": "digital-farmer",
   "metadata": {
    "scrolled": false
   },
   "outputs": [
    {
     "data": {
      "text/plain": [
       "[<span class=\"chart-element__information__song text--truncate color--primary\">Rapstar</span>,\n",
       " <span class=\"chart-element__information__song text--truncate color--primary\">Leave The Door Open</span>,\n",
       " <span class=\"chart-element__information__song text--truncate color--primary\">Peaches</span>,\n",
       " <span class=\"chart-element__information__song text--truncate color--primary\">Montero (Call Me By Your Name)</span>,\n",
       " <span class=\"chart-element__information__song text--truncate color--primary\">Levitating</span>,\n",
       " <span class=\"chart-element__information__song text--truncate color--primary\">Save Your Tears</span>,\n",
       " <span class=\"chart-element__information__song text--truncate color--primary\">Astronaut In The Ocean</span>,\n",
       " <span class=\"chart-element__information__song text--truncate color--primary\">Kiss Me More</span>,\n",
       " <span class=\"chart-element__information__song text--truncate color--primary\">Up</span>,\n",
       " <span class=\"chart-element__information__song text--truncate color--primary\">Drivers License</span>,\n",
       " <span class=\"chart-element__information__song text--truncate color--primary\">Deja Vu</span>,\n",
       " <span class=\"chart-element__information__song text--truncate color--primary\">Solid</span>,\n",
       " <span class=\"chart-element__information__song text--truncate color--primary\">Blinding Lights</span>,\n",
       " <span class=\"chart-element__information__song text--truncate color--primary\">Beat Box</span>,\n",
       " <span class=\"chart-element__information__song text--truncate color--primary\">Best Friend</span>,\n",
       " <span class=\"chart-element__information__song text--truncate color--primary\">Calling My Phone</span>,\n",
       " <span class=\"chart-element__information__song text--truncate color--primary\">What You Know Bout Love</span>,\n",
       " <span class=\"chart-element__information__song text--truncate color--primary\">Ski</span>,\n",
       " <span class=\"chart-element__information__song text--truncate color--primary\">Mood</span>,\n",
       " <span class=\"chart-element__information__song text--truncate color--primary\">Heartbreak Anniversary</span>,\n",
       " <span class=\"chart-element__information__song text--truncate color--primary\">The Good Ones</span>,\n",
       " <span class=\"chart-element__information__song text--truncate color--primary\">Beautiful Mistakes</span>,\n",
       " <span class=\"chart-element__information__song text--truncate color--primary\">Back In Blood</span>,\n",
       " <span class=\"chart-element__information__song text--truncate color--primary\">Go Crazy</span>,\n",
       " <span class=\"chart-element__information__song text--truncate color--primary\">You Broke Me First.</span>,\n",
       " <span class=\"chart-element__information__song text--truncate color--primary\">34+35</span>,\n",
       " <span class=\"chart-element__information__song text--truncate color--primary\">My Ex's Best Friend</span>,\n",
       " <span class=\"chart-element__information__song text--truncate color--primary\">What's Next</span>,\n",
       " <span class=\"chart-element__information__song text--truncate color--primary\">Dakiti</span>,\n",
       " <span class=\"chart-element__information__song text--truncate color--primary\">Therefore I Am</span>,\n",
       " <span class=\"chart-element__information__song text--truncate color--primary\">Without You</span>,\n",
       " <span class=\"chart-element__information__song text--truncate color--primary\">On Me</span>,\n",
       " <span class=\"chart-element__information__song text--truncate color--primary\">Positions</span>,\n",
       " <span class=\"chart-element__information__song text--truncate color--primary\">You're Mines Still</span>,\n",
       " <span class=\"chart-element__information__song text--truncate color--primary\">Forever After All</span>,\n",
       " <span class=\"chart-element__information__song text--truncate color--primary\">Wants And Needs</span>,\n",
       " <span class=\"chart-element__information__song text--truncate color--primary\">Track Star</span>,\n",
       " <span class=\"chart-element__information__song text--truncate color--primary\">We're Good</span>,\n",
       " <span class=\"chart-element__information__song text--truncate color--primary\">Heat Waves</span>,\n",
       " <span class=\"chart-element__information__song text--truncate color--primary\">For The Night</span>,\n",
       " <span class=\"chart-element__information__song text--truncate color--primary\">Hell Of A View</span>,\n",
       " <span class=\"chart-element__information__song text--truncate color--primary\">Made For You</span>,\n",
       " <span class=\"chart-element__information__song text--truncate color--primary\">No More Parties</span>,\n",
       " <span class=\"chart-element__information__song text--truncate color--primary\">Good Days</span>,\n",
       " <span class=\"chart-element__information__song text--truncate color--primary\">Starting Over</span>,\n",
       " <span class=\"chart-element__information__song text--truncate color--primary\">Diamonds Dancing</span>,\n",
       " <span class=\"chart-element__information__song text--truncate color--primary\">Goosebumps</span>,\n",
       " <span class=\"chart-element__information__song text--truncate color--primary\">Tombstone</span>,\n",
       " <span class=\"chart-element__information__song text--truncate color--primary\">Breaking Up Was Easy In The 90's</span>,\n",
       " <span class=\"chart-element__information__song text--truncate color--primary\">Somebody Like That</span>,\n",
       " <span class=\"chart-element__information__song text--truncate color--primary\">Streets</span>,\n",
       " <span class=\"chart-element__information__song text--truncate color--primary\">What's Your Country Song</span>,\n",
       " <span class=\"chart-element__information__song text--truncate color--primary\">Time Today</span>,\n",
       " <span class=\"chart-element__information__song text--truncate color--primary\">Telepatia</span>,\n",
       " <span class=\"chart-element__information__song text--truncate color--primary\">Cry Baby</span>,\n",
       " <span class=\"chart-element__information__song text--truncate color--primary\">Hold On</span>,\n",
       " <span class=\"chart-element__information__song text--truncate color--primary\">Street Runner</span>,\n",
       " <span class=\"chart-element__information__song text--truncate color--primary\">Just The Way</span>,\n",
       " <span class=\"chart-element__information__song text--truncate color--primary\">Proud Of You</span>,\n",
       " <span class=\"chart-element__information__song text--truncate color--primary\">Willow</span>,\n",
       " <span class=\"chart-element__information__song text--truncate color--primary\">Damage</span>,\n",
       " <span class=\"chart-element__information__song text--truncate color--primary\">Richer</span>,\n",
       " <span class=\"chart-element__information__song text--truncate color--primary\">Glad You Exist</span>,\n",
       " <span class=\"chart-element__information__song text--truncate color--primary\">La Noche de Anoche</span>,\n",
       " <span class=\"chart-element__information__song text--truncate color--primary\">Settling Down</span>,\n",
       " <span class=\"chart-element__information__song text--truncate color--primary\">Came And Saw</span>,\n",
       " <span class=\"chart-element__information__song text--truncate color--primary\">Headshot</span>,\n",
       " <span class=\"chart-element__information__song text--truncate color--primary\">Anyone</span>,\n",
       " <span class=\"chart-element__information__song text--truncate color--primary\">Down To One</span>,\n",
       " <span class=\"chart-element__information__song text--truncate color--primary\">Lady</span>,\n",
       " <span class=\"chart-element__information__song text--truncate color--primary\">Quicksand</span>,\n",
       " <span class=\"chart-element__information__song text--truncate color--primary\">One Too Many</span>,\n",
       " <span class=\"chart-element__information__song text--truncate color--primary\">Famous Friends</span>,\n",
       " <span class=\"chart-element__information__song text--truncate color--primary\">Gone</span>,\n",
       " <span class=\"chart-element__information__song text--truncate color--primary\">My Head And My Heart</span>,\n",
       " <span class=\"chart-element__information__song text--truncate color--primary\">Almost Maybes</span>,\n",
       " <span class=\"chart-element__information__song text--truncate color--primary\">Paid The Fine</span>,\n",
       " <span class=\"chart-element__information__song text--truncate color--primary\">The Business</span>,\n",
       " <span class=\"chart-element__information__song text--truncate color--primary\">Drunk (And I Don't Wanna Go Home)</span>,\n",
       " <span class=\"chart-element__information__song text--truncate color--primary\">Masterpiece</span>,\n",
       " <span class=\"chart-element__information__song text--truncate color--primary\">pov</span>,\n",
       " <span class=\"chart-element__information__song text--truncate color--primary\">Long Live</span>,\n",
       " <span class=\"chart-element__information__song text--truncate color--primary\">Hellcats &amp; Trackhawks</span>,\n",
       " <span class=\"chart-element__information__song text--truncate color--primary\">Follow You</span>,\n",
       " <span class=\"chart-element__information__song text--truncate color--primary\">Momma's House</span>,\n",
       " <span class=\"chart-element__information__song text--truncate color--primary\">Nobody</span>,\n",
       " <span class=\"chart-element__information__song text--truncate color--primary\">Big Gangsta</span>,\n",
       " <span class=\"chart-element__information__song text--truncate color--primary\">Pick Up Your Feelings</span>,\n",
       " <span class=\"chart-element__information__song text--truncate color--primary\">Lil Bit</span>,\n",
       " <span class=\"chart-element__information__song text--truncate color--primary\">Mr. Perfectly Fine (Taylor's Version) (From The Vault)</span>,\n",
       " <span class=\"chart-element__information__song text--truncate color--primary\">Chasing After You</span>,\n",
       " <span class=\"chart-element__information__song text--truncate color--primary\">Wasted On You</span>,\n",
       " <span class=\"chart-element__information__song text--truncate color--primary\">Run It Up</span>,\n",
       " <span class=\"chart-element__information__song text--truncate color--primary\">Arcade</span>,\n",
       " <span class=\"chart-element__information__song text--truncate color--primary\">You Got It</span>,\n",
       " <span class=\"chart-element__information__song text--truncate color--primary\">Go!</span>,\n",
       " <span class=\"chart-element__information__song text--truncate color--primary\">Drankin N Smokin</span>,\n",
       " <span class=\"chart-element__information__song text--truncate color--primary\">Monsters</span>,\n",
       " <span class=\"chart-element__information__song text--truncate color--primary\">Slatty</span>,\n",
       " <span class=\"chart-element__information__song text--truncate color--primary\">4 Da Gang</span>]"
      ]
     },
     "execution_count": 10,
     "metadata": {},
     "output_type": "execute_result"
    }
   ],
   "source": [
    "# this will select the name of all songs\n",
    "\n",
    "soup.select(\"span.chart-element__information__song\")"
   ]
  },
  {
   "cell_type": "code",
   "execution_count": 17,
   "id": "average-weapon",
   "metadata": {},
   "outputs": [
    {
     "data": {
      "text/plain": [
       "'Polo G'"
      ]
     },
     "execution_count": 17,
     "metadata": {},
     "output_type": "execute_result"
    }
   ],
   "source": [
    "# but we want to select only the name of the artist with the No.1 Song in the chart\n",
    "\n",
    "soup.select(\"span.chart-element__information__artist\")[0].text"
   ]
  },
  {
   "cell_type": "code",
   "execution_count": 21,
   "id": "knowing-annex",
   "metadata": {},
   "outputs": [
    {
     "data": {
      "text/plain": [
       "'4'"
      ]
     },
     "execution_count": 21,
     "metadata": {},
     "output_type": "execute_result"
    }
   ],
   "source": [
    "soup.select(\"span.chart-element__rank__number\")[3].text"
   ]
  },
  {
   "cell_type": "code",
   "execution_count": 22,
   "id": "upper-component",
   "metadata": {},
   "outputs": [],
   "source": [
    "song_lst = soup.select(\"span.chart-element__information__song\")"
   ]
  },
  {
   "cell_type": "code",
   "execution_count": 23,
   "id": "therapeutic-medline",
   "metadata": {},
   "outputs": [
    {
     "data": {
      "text/plain": [
       "100"
      ]
     },
     "execution_count": 23,
     "metadata": {},
     "output_type": "execute_result"
    }
   ],
   "source": [
    "# how many songs are in a single page?\n",
    "\n",
    "len(song_lst)"
   ]
  },
  {
   "cell_type": "code",
   "execution_count": 24,
   "id": "serious-prize",
   "metadata": {},
   "outputs": [],
   "source": [
    "# create empty lists and name them title, artist and rank\n",
    "title = []\n",
    "artist = []\n",
    "rank = []\n",
    "\n",
    "len_songs = len(song_lst)\n",
    "\n",
    "# iterate through each index and append into the empty lists\n",
    "for i in range(len_songs):\n",
    "    title.append(soup.select(\"span.chart-element__information__song\")[i].text)\n",
    "    artist.append(soup.select(\"span.chart-element__information__artist\")[i].text)\n",
    "    rank.append(soup.select(\"span.chart-element__rank__number\")[i].text)\n"
   ]
  },
  {
   "cell_type": "code",
   "execution_count": 25,
   "id": "applied-vietnam",
   "metadata": {},
   "outputs": [],
   "source": [
    "# create a DataFrame \n",
    "# with 'title', 'artist' and 'rank' as keys\n",
    "# and use the lists we create in previous cell as values\n",
    "\n",
    "songs = pd.DataFrame({'title' : title,\n",
    "                      'artist' : artist,\n",
    "                      'rank' : rank })\n"
   ]
  },
  {
   "cell_type": "code",
   "execution_count": 34,
   "id": "comic-dayton",
   "metadata": {
    "scrolled": true
   },
   "outputs": [
    {
     "data": {
      "text/html": [
       "<div>\n",
       "<style scoped>\n",
       "    .dataframe tbody tr th:only-of-type {\n",
       "        vertical-align: middle;\n",
       "    }\n",
       "\n",
       "    .dataframe tbody tr th {\n",
       "        vertical-align: top;\n",
       "    }\n",
       "\n",
       "    .dataframe thead th {\n",
       "        text-align: right;\n",
       "    }\n",
       "</style>\n",
       "<table border=\"1\" class=\"dataframe\">\n",
       "  <thead>\n",
       "    <tr style=\"text-align: right;\">\n",
       "      <th></th>\n",
       "      <th>title</th>\n",
       "      <th>artist</th>\n",
       "      <th>rank</th>\n",
       "    </tr>\n",
       "  </thead>\n",
       "  <tbody>\n",
       "    <tr>\n",
       "      <th>0</th>\n",
       "      <td>Rapstar</td>\n",
       "      <td>Polo G</td>\n",
       "      <td>1</td>\n",
       "    </tr>\n",
       "    <tr>\n",
       "      <th>1</th>\n",
       "      <td>Leave The Door Open</td>\n",
       "      <td>Silk Sonic (Bruno Mars &amp; Anderson .Paak)</td>\n",
       "      <td>2</td>\n",
       "    </tr>\n",
       "    <tr>\n",
       "      <th>2</th>\n",
       "      <td>Peaches</td>\n",
       "      <td>Justin Bieber Featuring Daniel Caesar &amp; Giveon</td>\n",
       "      <td>3</td>\n",
       "    </tr>\n",
       "    <tr>\n",
       "      <th>3</th>\n",
       "      <td>Montero (Call Me By Your Name)</td>\n",
       "      <td>Lil Nas X</td>\n",
       "      <td>4</td>\n",
       "    </tr>\n",
       "    <tr>\n",
       "      <th>4</th>\n",
       "      <td>Levitating</td>\n",
       "      <td>Dua Lipa Featuring DaBaby</td>\n",
       "      <td>5</td>\n",
       "    </tr>\n",
       "    <tr>\n",
       "      <th>...</th>\n",
       "      <td>...</td>\n",
       "      <td>...</td>\n",
       "      <td>...</td>\n",
       "    </tr>\n",
       "    <tr>\n",
       "      <th>95</th>\n",
       "      <td>Go!</td>\n",
       "      <td>Moneybagg Yo Featuring BIG30</td>\n",
       "      <td>96</td>\n",
       "    </tr>\n",
       "    <tr>\n",
       "      <th>96</th>\n",
       "      <td>Drankin N Smokin</td>\n",
       "      <td>Future &amp; Lil Uzi Vert</td>\n",
       "      <td>97</td>\n",
       "    </tr>\n",
       "    <tr>\n",
       "      <th>97</th>\n",
       "      <td>Monsters</td>\n",
       "      <td>All Time Low Featuring Demi Lovato &amp; blackbear</td>\n",
       "      <td>98</td>\n",
       "    </tr>\n",
       "    <tr>\n",
       "      <th>98</th>\n",
       "      <td>Slatty</td>\n",
       "      <td>Young Thug &amp; Gunna Featuring Yak Gotti &amp; Lil Duke</td>\n",
       "      <td>99</td>\n",
       "    </tr>\n",
       "    <tr>\n",
       "      <th>99</th>\n",
       "      <td>4 Da Gang</td>\n",
       "      <td>42 Dugg &amp; Roddy Ricch</td>\n",
       "      <td>100</td>\n",
       "    </tr>\n",
       "  </tbody>\n",
       "</table>\n",
       "<p>100 rows × 3 columns</p>\n",
       "</div>"
      ],
      "text/plain": [
       "                             title  \\\n",
       "0                          Rapstar   \n",
       "1              Leave The Door Open   \n",
       "2                          Peaches   \n",
       "3   Montero (Call Me By Your Name)   \n",
       "4                       Levitating   \n",
       "..                             ...   \n",
       "95                             Go!   \n",
       "96                Drankin N Smokin   \n",
       "97                        Monsters   \n",
       "98                          Slatty   \n",
       "99                       4 Da Gang   \n",
       "\n",
       "                                               artist rank  \n",
       "0                                              Polo G    1  \n",
       "1            Silk Sonic (Bruno Mars & Anderson .Paak)    2  \n",
       "2      Justin Bieber Featuring Daniel Caesar & Giveon    3  \n",
       "3                                           Lil Nas X    4  \n",
       "4                           Dua Lipa Featuring DaBaby    5  \n",
       "..                                                ...  ...  \n",
       "95                       Moneybagg Yo Featuring BIG30   96  \n",
       "96                              Future & Lil Uzi Vert   97  \n",
       "97    All Time Low Featuring Demi Lovato & blackbear    98  \n",
       "98  Young Thug & Gunna Featuring Yak Gotti & Lil Duke   99  \n",
       "99                              42 Dugg & Roddy Ricch  100  \n",
       "\n",
       "[100 rows x 3 columns]"
      ]
     },
     "execution_count": 34,
     "metadata": {},
     "output_type": "execute_result"
    }
   ],
   "source": [
    "# inspect the newly created DataFrame\n",
    "\n",
    "songs"
   ]
  },
  {
   "cell_type": "code",
   "execution_count": 29,
   "id": "unlike-collective",
   "metadata": {},
   "outputs": [
    {
     "data": {
      "text/plain": [
       "(100, 3)"
      ]
     },
     "execution_count": 29,
     "metadata": {},
     "output_type": "execute_result"
    }
   ],
   "source": [
    "songs.shape\n",
    "\n",
    "# 100 rows and 3 columns"
   ]
  },
  {
   "cell_type": "code",
   "execution_count": 30,
   "id": "fiscal-malawi",
   "metadata": {
    "scrolled": true
   },
   "outputs": [
    {
     "data": {
      "text/html": [
       "<div>\n",
       "<style scoped>\n",
       "    .dataframe tbody tr th:only-of-type {\n",
       "        vertical-align: middle;\n",
       "    }\n",
       "\n",
       "    .dataframe tbody tr th {\n",
       "        vertical-align: top;\n",
       "    }\n",
       "\n",
       "    .dataframe thead th {\n",
       "        text-align: right;\n",
       "    }\n",
       "</style>\n",
       "<table border=\"1\" class=\"dataframe\">\n",
       "  <thead>\n",
       "    <tr style=\"text-align: right;\">\n",
       "      <th></th>\n",
       "      <th>title</th>\n",
       "      <th>artist</th>\n",
       "      <th>rank</th>\n",
       "    </tr>\n",
       "  </thead>\n",
       "  <tbody>\n",
       "    <tr>\n",
       "      <th>count</th>\n",
       "      <td>100</td>\n",
       "      <td>100</td>\n",
       "      <td>100</td>\n",
       "    </tr>\n",
       "    <tr>\n",
       "      <th>unique</th>\n",
       "      <td>100</td>\n",
       "      <td>93</td>\n",
       "      <td>100</td>\n",
       "    </tr>\n",
       "    <tr>\n",
       "      <th>top</th>\n",
       "      <td>Ski</td>\n",
       "      <td>Ariana Grande</td>\n",
       "      <td>64</td>\n",
       "    </tr>\n",
       "    <tr>\n",
       "      <th>freq</th>\n",
       "      <td>1</td>\n",
       "      <td>3</td>\n",
       "      <td>1</td>\n",
       "    </tr>\n",
       "  </tbody>\n",
       "</table>\n",
       "</div>"
      ],
      "text/plain": [
       "       title         artist rank\n",
       "count    100            100  100\n",
       "unique   100             93  100\n",
       "top      Ski  Ariana Grande   64\n",
       "freq       1              3    1"
      ]
     },
     "execution_count": 30,
     "metadata": {},
     "output_type": "execute_result"
    }
   ],
   "source": [
    "songs.describe()"
   ]
  },
  {
   "cell_type": "code",
   "execution_count": 32,
   "id": "optional-wilderness",
   "metadata": {},
   "outputs": [
    {
     "name": "stdout",
     "output_type": "stream",
     "text": [
      "<class 'pandas.core.frame.DataFrame'>\n",
      "RangeIndex: 100 entries, 0 to 99\n",
      "Data columns (total 3 columns):\n",
      " #   Column  Non-Null Count  Dtype \n",
      "---  ------  --------------  ----- \n",
      " 0   title   100 non-null    object\n",
      " 1   artist  100 non-null    object\n",
      " 2   rank    100 non-null    object\n",
      "dtypes: object(3)\n",
      "memory usage: 2.5+ KB\n"
     ]
    }
   ],
   "source": [
    "songs.info()"
   ]
  },
  {
   "cell_type": "code",
   "execution_count": 33,
   "id": "regional-fifteen",
   "metadata": {},
   "outputs": [],
   "source": [
    "# now we can extract DataFrame into a .csv file\n",
    "\n",
    "songs.to_csv(\"billboard_top100.csv\")\n"
   ]
  },
  {
   "cell_type": "code",
   "execution_count": null,
   "id": "adapted-andorra",
   "metadata": {},
   "outputs": [],
   "source": []
  },
  {
   "cell_type": "code",
   "execution_count": null,
   "id": "agricultural-backing",
   "metadata": {},
   "outputs": [],
   "source": []
  }
 ],
 "metadata": {
  "kernelspec": {
   "display_name": "Python 3",
   "language": "python",
   "name": "python3"
  },
  "language_info": {
   "codemirror_mode": {
    "name": "ipython",
    "version": 3
   },
   "file_extension": ".py",
   "mimetype": "text/x-python",
   "name": "python",
   "nbconvert_exporter": "python",
   "pygments_lexer": "ipython3",
   "version": "3.9.2"
  },
  "toc": {
   "base_numbering": 1,
   "nav_menu": {},
   "number_sections": true,
   "sideBar": true,
   "skip_h1_title": false,
   "title_cell": "Table of Contents",
   "title_sidebar": "Contents",
   "toc_cell": false,
   "toc_position": {},
   "toc_section_display": true,
   "toc_window_display": false
  },
  "varInspector": {
   "cols": {
    "lenName": 16,
    "lenType": 16,
    "lenVar": 40
   },
   "kernels_config": {
    "python": {
     "delete_cmd_postfix": "",
     "delete_cmd_prefix": "del ",
     "library": "var_list.py",
     "varRefreshCmd": "print(var_dic_list())"
    },
    "r": {
     "delete_cmd_postfix": ") ",
     "delete_cmd_prefix": "rm(",
     "library": "var_list.r",
     "varRefreshCmd": "cat(var_dic_list()) "
    }
   },
   "types_to_exclude": [
    "module",
    "function",
    "builtin_function_or_method",
    "instance",
    "_Feature"
   ],
   "window_display": false
  }
 },
 "nbformat": 4,
 "nbformat_minor": 5
}
